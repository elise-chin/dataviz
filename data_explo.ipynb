{
 "cells": [
  {
   "cell_type": "markdown",
   "id": "0ebd93ff",
   "metadata": {},
   "source": [
    "# Data Visualization Project\n",
    "\n",
    "Purpose of the presentation:\n",
    "What is the overall happiness in the world?\n",
    "\n",
    "Sub-questions to answer the main question:\n",
    "- What are the most and least important factors that contribute to the happiness of a country?\n"
   ]
  },
  {
   "cell_type": "code",
   "execution_count": 2,
   "id": "f260c04b",
   "metadata": {},
   "outputs": [],
   "source": [
    "import pandas as pd\n",
    "import numpy as np\n",
    "import os"
   ]
  },
  {
   "cell_type": "markdown",
   "id": "188a6e62",
   "metadata": {},
   "source": [
    "## 1 Data Preparation"
   ]
  },
  {
   "cell_type": "code",
   "execution_count": 3,
   "id": "9a199703",
   "metadata": {},
   "outputs": [],
   "source": [
    "# Load data\n",
    "data2015 = pd.read_csv(os.path.join('data', '2015.csv'))\n",
    "data2016 = pd.read_csv(os.path.join('data', '2016.csv'))\n",
    "data2017 = pd.read_csv(os.path.join('data', '2017.csv'))\n",
    "data2018 = pd.read_csv(os.path.join('data', '2018.csv'))\n",
    "data2019 = pd.read_csv(os.path.join('data', '2019.csv'))\n",
    "data2020 = pd.read_csv(os.path.join('data', '2020.csv'))\n",
    "data2021 = pd.read_csv(os.path.join('data', '2021.csv'))\n",
    "data2022 = pd.read_csv(os.path.join('data', '2022.csv'))"
   ]
  },
  {
   "cell_type": "code",
   "execution_count": 4,
   "id": "3261b8e6",
   "metadata": {},
   "outputs": [],
   "source": [
    "years = list(range(2015, 2023))\n",
    "all_data = [data2015, data2016, data2017, data2018, data2019, data2020, data2021, data2022]"
   ]
  },
  {
   "cell_type": "code",
   "execution_count": 5,
   "id": "fdb656f7",
   "metadata": {},
   "outputs": [
    {
     "name": "stdout",
     "output_type": "stream",
     "text": [
      "2015 (12): Index(['Country', 'Region', 'Happiness Rank', 'Happiness Score',\n",
      "       'Standard Error', 'Economy (GDP per Capita)', 'Family',\n",
      "       'Health (Life Expectancy)', 'Freedom', 'Trust (Government Corruption)',\n",
      "       'Generosity', 'Dystopia Residual'],\n",
      "      dtype='object')\n",
      "\n",
      "2016 (13): Index(['Country', 'Region', 'Happiness Rank', 'Happiness Score',\n",
      "       'Lower Confidence Interval', 'Upper Confidence Interval',\n",
      "       'Economy (GDP per Capita)', 'Family', 'Health (Life Expectancy)',\n",
      "       'Freedom', 'Trust (Government Corruption)', 'Generosity',\n",
      "       'Dystopia Residual'],\n",
      "      dtype='object')\n",
      "\n",
      "2017 (12): Index(['Country', 'Happiness.Rank', 'Happiness.Score', 'Whisker.high',\n",
      "       'Whisker.low', 'Economy..GDP.per.Capita.', 'Family',\n",
      "       'Health..Life.Expectancy.', 'Freedom', 'Generosity',\n",
      "       'Trust..Government.Corruption.', 'Dystopia.Residual'],\n",
      "      dtype='object')\n",
      "\n",
      "2018 (9): Index(['Overall rank', 'Country or region', 'Score', 'GDP per capita',\n",
      "       'Social support', 'Healthy life expectancy',\n",
      "       'Freedom to make life choices', 'Generosity',\n",
      "       'Perceptions of corruption'],\n",
      "      dtype='object')\n",
      "\n",
      "2019 (9): Index(['Overall rank', 'Country or region', 'Score', 'GDP per capita',\n",
      "       'Social support', 'Healthy life expectancy',\n",
      "       'Freedom to make life choices', 'Generosity',\n",
      "       'Perceptions of corruption'],\n",
      "      dtype='object')\n",
      "\n",
      "2020 (20): Index(['Country name', 'Regional indicator', 'Ladder score',\n",
      "       'Standard error of ladder score', 'upperwhisker', 'lowerwhisker',\n",
      "       'Logged GDP per capita', 'Social support', 'Healthy life expectancy',\n",
      "       'Freedom to make life choices', 'Generosity',\n",
      "       'Perceptions of corruption', 'Ladder score in Dystopia',\n",
      "       'Explained by: Log GDP per capita', 'Explained by: Social support',\n",
      "       'Explained by: Healthy life expectancy',\n",
      "       'Explained by: Freedom to make life choices',\n",
      "       'Explained by: Generosity', 'Explained by: Perceptions of corruption',\n",
      "       'Dystopia + residual'],\n",
      "      dtype='object')\n",
      "\n",
      "2021 (20): Index(['Country name', 'Regional indicator', 'Ladder score',\n",
      "       'Standard error of ladder score', 'upperwhisker', 'lowerwhisker',\n",
      "       'Logged GDP per capita', 'Social support', 'Healthy life expectancy',\n",
      "       'Freedom to make life choices', 'Generosity',\n",
      "       'Perceptions of corruption', 'Ladder score in Dystopia',\n",
      "       'Explained by: Log GDP per capita', 'Explained by: Social support',\n",
      "       'Explained by: Healthy life expectancy',\n",
      "       'Explained by: Freedom to make life choices',\n",
      "       'Explained by: Generosity', 'Explained by: Perceptions of corruption',\n",
      "       'Dystopia + residual'],\n",
      "      dtype='object')\n",
      "\n",
      "2022 (12): Index(['RANK', 'Country', 'Happiness score', 'Whisker-high', 'Whisker-low',\n",
      "       'Dystopia (1.83) + residual', 'Explained by: GDP per capita',\n",
      "       'Explained by: Social support', 'Explained by: Healthy life expectancy',\n",
      "       'Explained by: Freedom to make life choices',\n",
      "       'Explained by: Generosity', 'Explained by: Perceptions of corruption'],\n",
      "      dtype='object')\n",
      "\n"
     ]
    }
   ],
   "source": [
    "for i, data in enumerate(all_data):\n",
    "    print(f'{years[i]} ({len(data.columns)}): {data.columns}\\n')"
   ]
  },
  {
   "cell_type": "markdown",
   "id": "13f8a00d",
   "metadata": {},
   "source": [
    "Pas le même nombre de colonnes, ni les mêmes noms. Donc on va transformer les colonnes de chaque année dans un même format."
   ]
  },
  {
   "cell_type": "markdown",
   "id": "584c306e",
   "metadata": {},
   "source": [
    "### 1.1 Preprocessing each data into same format columns\n"
   ]
  },
  {
   "cell_type": "markdown",
   "id": "0de97383",
   "metadata": {},
   "source": [
    "We keep the following columns:\n",
    "\n",
    "- Happiness Rank : Rank of the country based on the Happiness Score. => osef on pet le faire nous meme \n",
    "- Country : Name of the country => ok partout\n",
    "- Region : Region the country belongs to => pas partout mais du coup on va garder que europe\n",
    "- Happiness score : A metric measured in 2015 by asking the sampled people the question: \"How would you rate your happiness on a scale of 0 to 10 where 10 is the happiest.\" => ok partout\n",
    "- Economy (GDP per Capita) : The extent to which GDP contributes to the calculation of the Happiness Score. =>\n",
    "- Family : The extent to which Family contributes to the calculation of the Happiness Score => \n",
    "- Health (Life Expectancy) : The extent to which Life expectancy contributed to the calculation of the Happiness Score =>\n",
    "- Freedom : The extent to which Freedom contributed to the calculation of the Happiness Score. =>\n",
    "- Trust (Government Corruption) : The extent to which Perception of Corruption contributes to Happiness Score.\n",
    "- Generosity : The extent to which Generosity contributed to the calculation of the Happiness Score. \n",
    "- Dystopia Residual : The extent to which Dystopia Residual contributed to the calculation of the Happiness Score.\n",
    "\n",
    "And add a 'year' column\n"
   ]
  },
  {
   "cell_type": "code",
   "execution_count": 6,
   "id": "e149daa5",
   "metadata": {},
   "outputs": [],
   "source": [
    "data2015 = data2015.rename(columns = {'Happiness Rank': 'happiness_rank',\n",
    "                                      'Country': 'country',\n",
    "                                      'Region': 'region',\n",
    "                                      'Happiness Score': 'happiness_score',\n",
    "                                      'Economy (GDP per Capita)': 'economy',\n",
    "                                      'Family': 'social_support',\n",
    "                                      'Health (Life Expectancy)': 'health',\n",
    "                                      'Freedom': 'freedom',\n",
    "                                      'Trust (Government Corruption)': 'trust',\n",
    "                                      'Generosity': 'generosity',\n",
    "                                      'Dystopia Residual': 'dystopia_residual'})\n",
    "\n",
    "data2016 = data2016.rename(columns = {'Happiness Rank': 'happiness_rank',\n",
    "                                      'Country': 'country',\n",
    "                                      'Region': 'region',\n",
    "                                      'Happiness Score': 'happiness_score',\n",
    "                                      'Economy (GDP per Capita)': 'economy',\n",
    "                                      'Family': 'social_support',\n",
    "                                      'Health (Life Expectancy)': 'health',\n",
    "                                      'Freedom': 'freedom',\n",
    "                                      'Trust (Government Corruption)': 'trust',\n",
    "                                      'Generosity': 'generosity',\n",
    "                                      'Dystopia Residual': 'dystopia_residual'})\n",
    "\n",
    "data2017 = data2017.rename(columns = {'Happiness.Rank': 'happiness_rank',\n",
    "                                      'Country': 'country',\n",
    "                                      'Happiness.Score': 'happiness_score',\n",
    "                                      'Economy..GDP.per.Capita.': 'economy',\n",
    "                                      'Family': 'social_support',\n",
    "                                      'Health..Life.Expectancy.': 'health',\n",
    "                                      'Freedom': 'freedom',\n",
    "                                      'Trust..Government.Corruption.': 'trust',\n",
    "                                      'Generosity': 'generosity',\n",
    "                                      'Dystopia.Residual': 'dystopia_residual'})\n",
    "data2017['region'] = np.nan\n",
    "\n",
    "data2018 = data2018.rename(columns = {'Overall rank': 'happiness_rank',\n",
    "                                      'Country or region': 'country',\n",
    "                                      'Score': 'happiness_score',\n",
    "                                      'GDP per capita': 'economy',\n",
    "                                      'Social support': 'social_support',\n",
    "                                      'Healthy life expectancy': 'health',\n",
    "                                      'Freedom to make life choices': 'freedom',\n",
    "                                      'Perceptions of corruption': 'trust',\n",
    "                                      'Generosity': 'generosity'})\n",
    "data2018['region'] = np.nan\n",
    "data2018['dystopia_residual'] = np.nan\n",
    "\n",
    "data2019 = data2019.rename(columns = {'Overall rank': 'happiness_rank',\n",
    "                                      'Country or region': 'country',\n",
    "                                      'Score': 'happiness_score',\n",
    "                                      'GDP per capita': 'economy',\n",
    "                                      'Social support': 'social_support',\n",
    "                                      'Healthy life expectancy': 'health',\n",
    "                                      'Freedom to make life choices': 'freedom',\n",
    "                                      'Perceptions of corruption': 'trust',\n",
    "                                      'Generosity': 'generosity'})\n",
    "data2019['region'] = np.nan\n",
    "data2019['dystopia_residual'] = np.nan\n",
    "\n",
    "data2020 = data2020.rename(columns = {'Country name': 'country',\n",
    "                                      'Regional indicator': 'region',\n",
    "                                      'Ladder score': 'happiness_score',\n",
    "                                      'Explained by: Log GDP per capita': 'economy',\n",
    "                                      'Explained by: Social support': 'social_support',\n",
    "                                      'Explained by: Healthy life expectancy': 'health',\n",
    "                                      'Explained by: Freedom to make life choices': 'freedom',\n",
    "                                      'Explained by: Perceptions of corruption': 'trust',\n",
    "                                      'Explained by: Generosity': 'generosity',\n",
    "                                      'Dystopia + residual': 'dystopia_residual'})\n",
    "data2020['happiness_rank'] = np.nan\n",
    "\n",
    "data2021 = data2021.rename(columns = {'Country name': 'country',\n",
    "                                      'Regional indicator': 'region',\n",
    "                                      'Ladder score': 'happiness_score',\n",
    "                                      'Explained by: Log GDP per capita': 'economy',\n",
    "                                      'Explained by: Social support': 'social_support',\n",
    "                                      'Explained by: Healthy life expectancy': 'health',\n",
    "                                      'Explained by: Freedom to make life choices': 'freedom',\n",
    "                                      'Explained by: Perceptions of corruption': 'trust',\n",
    "                                      'Explained by: Generosity': 'generosity',\n",
    "                                      'Dystopia + residual': 'dystopia_residual'})\n",
    "data2021['happiness_rank'] = np.nan\n",
    "\n",
    "data2022 = data2022.rename(columns = {'RANK': 'happiness_rank',\n",
    "                                      'Country': 'country',\n",
    "                                      'Happiness score': 'happiness_score',\n",
    "                                      'Explained by: GDP per capita': 'economy',\n",
    "                                      'Explained by: Social support': 'social_support',\n",
    "                                      'Explained by: Healthy life expectancy': 'health',\n",
    "                                      'Explained by: Freedom to make life choices': 'freedom',\n",
    "                                      'Explained by: Perceptions of corruption': 'trust',\n",
    "                                      'Explained by: Generosity': 'generosity',\n",
    "                                      'Dystopia (1.83) + residual': 'dystopia_residual'})  \n",
    "\n",
    "data2022['region'] = np.nan                                                                                                                                                     "
   ]
  },
  {
   "cell_type": "code",
   "execution_count": 7,
   "id": "3580dc01",
   "metadata": {},
   "outputs": [],
   "source": [
    "# Add a 'year' column\n",
    "data2015['year'] = 2015\n",
    "data2016['year'] = 2016\n",
    "data2017['year'] = 2017\n",
    "data2018['year'] = 2018\n",
    "data2019['year'] = 2019\n",
    "data2020['year'] = 2020\n",
    "data2021['year'] = 2021\n",
    "data2022['year'] = 2022"
   ]
  },
  {
   "cell_type": "markdown",
   "id": "b6a04d7a",
   "metadata": {},
   "source": [
    "### 1.2 Store data from 2015 - 2022 into a new data frame"
   ]
  },
  {
   "cell_type": "code",
   "execution_count": 8,
   "id": "83f15f8f",
   "metadata": {},
   "outputs": [],
   "source": [
    "columns = ['happiness_rank', 'country', 'region', 'happiness_score', 'economy', 'social_support', 'health', 'freedom', 'trust', 'generosity', 'dystopia_residual', 'year']"
   ]
  },
  {
   "cell_type": "code",
   "execution_count": 9,
   "id": "ecaed4de",
   "metadata": {},
   "outputs": [],
   "source": [
    "all_data = [data2015, data2016, data2017, data2018, data2019, data2020, data2021, data2022]\n",
    "happiness_df = pd.DataFrame(columns=columns)\n",
    "for data in all_data:\n",
    "    happiness_df = happiness_df.append(data[columns], ignore_index='True')"
   ]
  },
  {
   "cell_type": "code",
   "execution_count": 10,
   "id": "775b2aed",
   "metadata": {},
   "outputs": [
    {
     "data": {
      "text/html": [
       "<div>\n",
       "<style scoped>\n",
       "    .dataframe tbody tr th:only-of-type {\n",
       "        vertical-align: middle;\n",
       "    }\n",
       "\n",
       "    .dataframe tbody tr th {\n",
       "        vertical-align: top;\n",
       "    }\n",
       "\n",
       "    .dataframe thead th {\n",
       "        text-align: right;\n",
       "    }\n",
       "</style>\n",
       "<table border=\"1\" class=\"dataframe\">\n",
       "  <thead>\n",
       "    <tr style=\"text-align: right;\">\n",
       "      <th></th>\n",
       "      <th>happiness_rank</th>\n",
       "      <th>country</th>\n",
       "      <th>region</th>\n",
       "      <th>happiness_score</th>\n",
       "      <th>economy</th>\n",
       "      <th>social_support</th>\n",
       "      <th>health</th>\n",
       "      <th>freedom</th>\n",
       "      <th>trust</th>\n",
       "      <th>generosity</th>\n",
       "      <th>dystopia_residual</th>\n",
       "      <th>year</th>\n",
       "    </tr>\n",
       "  </thead>\n",
       "  <tbody>\n",
       "    <tr>\n",
       "      <th>0</th>\n",
       "      <td>1</td>\n",
       "      <td>Switzerland</td>\n",
       "      <td>Western Europe</td>\n",
       "      <td>7.587</td>\n",
       "      <td>1.39651</td>\n",
       "      <td>1.34951</td>\n",
       "      <td>0.94143</td>\n",
       "      <td>0.66557</td>\n",
       "      <td>0.41978</td>\n",
       "      <td>0.29678</td>\n",
       "      <td>2.51738</td>\n",
       "      <td>2015</td>\n",
       "    </tr>\n",
       "    <tr>\n",
       "      <th>1</th>\n",
       "      <td>2</td>\n",
       "      <td>Iceland</td>\n",
       "      <td>Western Europe</td>\n",
       "      <td>7.561</td>\n",
       "      <td>1.30232</td>\n",
       "      <td>1.40223</td>\n",
       "      <td>0.94784</td>\n",
       "      <td>0.62877</td>\n",
       "      <td>0.14145</td>\n",
       "      <td>0.4363</td>\n",
       "      <td>2.70201</td>\n",
       "      <td>2015</td>\n",
       "    </tr>\n",
       "    <tr>\n",
       "      <th>2</th>\n",
       "      <td>3</td>\n",
       "      <td>Denmark</td>\n",
       "      <td>Western Europe</td>\n",
       "      <td>7.527</td>\n",
       "      <td>1.32548</td>\n",
       "      <td>1.36058</td>\n",
       "      <td>0.87464</td>\n",
       "      <td>0.64938</td>\n",
       "      <td>0.48357</td>\n",
       "      <td>0.34139</td>\n",
       "      <td>2.49204</td>\n",
       "      <td>2015</td>\n",
       "    </tr>\n",
       "    <tr>\n",
       "      <th>3</th>\n",
       "      <td>4</td>\n",
       "      <td>Norway</td>\n",
       "      <td>Western Europe</td>\n",
       "      <td>7.522</td>\n",
       "      <td>1.459</td>\n",
       "      <td>1.33095</td>\n",
       "      <td>0.88521</td>\n",
       "      <td>0.66973</td>\n",
       "      <td>0.36503</td>\n",
       "      <td>0.34699</td>\n",
       "      <td>2.46531</td>\n",
       "      <td>2015</td>\n",
       "    </tr>\n",
       "    <tr>\n",
       "      <th>4</th>\n",
       "      <td>5</td>\n",
       "      <td>Canada</td>\n",
       "      <td>North America</td>\n",
       "      <td>7.427</td>\n",
       "      <td>1.32629</td>\n",
       "      <td>1.32261</td>\n",
       "      <td>0.90563</td>\n",
       "      <td>0.63297</td>\n",
       "      <td>0.32957</td>\n",
       "      <td>0.45811</td>\n",
       "      <td>2.45176</td>\n",
       "      <td>2015</td>\n",
       "    </tr>\n",
       "  </tbody>\n",
       "</table>\n",
       "</div>"
      ],
      "text/plain": [
       "  happiness_rank      country          region happiness_score  economy  \\\n",
       "0              1  Switzerland  Western Europe           7.587  1.39651   \n",
       "1              2      Iceland  Western Europe           7.561  1.30232   \n",
       "2              3      Denmark  Western Europe           7.527  1.32548   \n",
       "3              4       Norway  Western Europe           7.522    1.459   \n",
       "4              5       Canada   North America           7.427  1.32629   \n",
       "\n",
       "  social_support   health  freedom    trust generosity dystopia_residual  year  \n",
       "0        1.34951  0.94143  0.66557  0.41978    0.29678           2.51738  2015  \n",
       "1        1.40223  0.94784  0.62877  0.14145     0.4363           2.70201  2015  \n",
       "2        1.36058  0.87464  0.64938  0.48357    0.34139           2.49204  2015  \n",
       "3        1.33095  0.88521  0.66973  0.36503    0.34699           2.46531  2015  \n",
       "4        1.32261  0.90563  0.63297  0.32957    0.45811           2.45176  2015  "
      ]
     },
     "execution_count": 10,
     "metadata": {},
     "output_type": "execute_result"
    }
   ],
   "source": [
    "happiness_df.head()"
   ]
  },
  {
   "cell_type": "markdown",
   "id": "470775c7",
   "metadata": {},
   "source": [
    "### 1.3 Convert to correct dtypes"
   ]
  },
  {
   "cell_type": "code",
   "execution_count": 11,
   "id": "8ba13d7d",
   "metadata": {},
   "outputs": [
    {
     "data": {
      "text/plain": [
       "happiness_rank       object\n",
       "country              object\n",
       "region               object\n",
       "happiness_score      object\n",
       "economy              object\n",
       "social_support       object\n",
       "health               object\n",
       "freedom              object\n",
       "trust                object\n",
       "generosity           object\n",
       "dystopia_residual    object\n",
       "year                 object\n",
       "dtype: object"
      ]
     },
     "execution_count": 11,
     "metadata": {},
     "output_type": "execute_result"
    }
   ],
   "source": [
    "happiness_df.dtypes"
   ]
  },
  {
   "cell_type": "code",
   "execution_count": 12,
   "id": "35decb75",
   "metadata": {},
   "outputs": [],
   "source": [
    "# Some float values had , instead of . and so could not be converted from 'object' to 'float32'\n",
    "# We replace , to .\n",
    "happiness_df = happiness_df.replace(',', '.', regex=True)"
   ]
  },
  {
   "cell_type": "code",
   "execution_count": 13,
   "id": "577b284e",
   "metadata": {},
   "outputs": [],
   "source": [
    "happiness_df = happiness_df.astype({'happiness_rank': 'Int32',\n",
    "                                    'country': 'string',\n",
    "                                    'region': 'string',\n",
    "                                    'happiness_score': 'float32', \n",
    "                                    'economy': 'float32',\n",
    "                                    'social_support': 'float32', \n",
    "                                    'health': 'float32',\n",
    "                                    'freedom': 'float32',\n",
    "                                    'trust': 'float32',\n",
    "                                    'generosity': 'float32',\n",
    "                                    'dystopia_residual': 'float32',\n",
    "                                    'year': 'int32'})\n"
   ]
  },
  {
   "cell_type": "markdown",
   "id": "7f38b125",
   "metadata": {},
   "source": [
    "### 1.4 Look for abnormal values if any"
   ]
  },
  {
   "cell_type": "code",
   "execution_count": 14,
   "id": "6a34cb3e",
   "metadata": {},
   "outputs": [
    {
     "data": {
      "text/html": [
       "<div>\n",
       "<style scoped>\n",
       "    .dataframe tbody tr th:only-of-type {\n",
       "        vertical-align: middle;\n",
       "    }\n",
       "\n",
       "    .dataframe tbody tr th {\n",
       "        vertical-align: top;\n",
       "    }\n",
       "\n",
       "    .dataframe thead th {\n",
       "        text-align: right;\n",
       "    }\n",
       "</style>\n",
       "<table border=\"1\" class=\"dataframe\">\n",
       "  <thead>\n",
       "    <tr style=\"text-align: right;\">\n",
       "      <th></th>\n",
       "      <th>happiness_rank</th>\n",
       "      <th>happiness_score</th>\n",
       "      <th>economy</th>\n",
       "      <th>social_support</th>\n",
       "      <th>health</th>\n",
       "      <th>freedom</th>\n",
       "      <th>trust</th>\n",
       "      <th>generosity</th>\n",
       "      <th>dystopia_residual</th>\n",
       "      <th>year</th>\n",
       "    </tr>\n",
       "  </thead>\n",
       "  <tbody>\n",
       "    <tr>\n",
       "      <th>count</th>\n",
       "      <td>929.000000</td>\n",
       "      <td>1230.000000</td>\n",
       "      <td>1230.000000</td>\n",
       "      <td>1230.000000</td>\n",
       "      <td>1230.000000</td>\n",
       "      <td>1230.000000</td>\n",
       "      <td>1229.000000</td>\n",
       "      <td>1230.000000</td>\n",
       "      <td>918.000000</td>\n",
       "      <td>1231.000000</td>\n",
       "    </tr>\n",
       "    <tr>\n",
       "      <th>mean</th>\n",
       "      <td>77.954790</td>\n",
       "      <td>5.430092</td>\n",
       "      <td>0.976255</td>\n",
       "      <td>1.032984</td>\n",
       "      <td>0.608132</td>\n",
       "      <td>0.440833</td>\n",
       "      <td>0.130756</td>\n",
       "      <td>0.201583</td>\n",
       "      <td>2.085952</td>\n",
       "      <td>2018.450041</td>\n",
       "    </tr>\n",
       "    <tr>\n",
       "      <th>std</th>\n",
       "      <td>44.791183</td>\n",
       "      <td>1.115361</td>\n",
       "      <td>0.435247</td>\n",
       "      <td>0.329526</td>\n",
       "      <td>0.241249</td>\n",
       "      <td>0.154415</td>\n",
       "      <td>0.110818</td>\n",
       "      <td>0.115522</td>\n",
       "      <td>0.583109</td>\n",
       "      <td>2.284034</td>\n",
       "    </tr>\n",
       "    <tr>\n",
       "      <th>min</th>\n",
       "      <td>1.000000</td>\n",
       "      <td>2.404000</td>\n",
       "      <td>0.000000</td>\n",
       "      <td>0.000000</td>\n",
       "      <td>0.000000</td>\n",
       "      <td>0.000000</td>\n",
       "      <td>0.000000</td>\n",
       "      <td>0.000000</td>\n",
       "      <td>0.187000</td>\n",
       "      <td>2015.000000</td>\n",
       "    </tr>\n",
       "    <tr>\n",
       "      <th>25%</th>\n",
       "      <td>39.000000</td>\n",
       "      <td>4.584500</td>\n",
       "      <td>0.668250</td>\n",
       "      <td>0.824771</td>\n",
       "      <td>0.439250</td>\n",
       "      <td>0.344250</td>\n",
       "      <td>0.056000</td>\n",
       "      <td>0.118000</td>\n",
       "      <td>1.730570</td>\n",
       "      <td>2016.000000</td>\n",
       "    </tr>\n",
       "    <tr>\n",
       "      <th>50%</th>\n",
       "      <td>78.000000</td>\n",
       "      <td>5.410500</td>\n",
       "      <td>1.013580</td>\n",
       "      <td>1.069168</td>\n",
       "      <td>0.639427</td>\n",
       "      <td>0.458135</td>\n",
       "      <td>0.096000</td>\n",
       "      <td>0.186984</td>\n",
       "      <td>2.107560</td>\n",
       "      <td>2018.000000</td>\n",
       "    </tr>\n",
       "    <tr>\n",
       "      <th>75%</th>\n",
       "      <td>117.000000</td>\n",
       "      <td>6.226225</td>\n",
       "      <td>1.295961</td>\n",
       "      <td>1.273395</td>\n",
       "      <td>0.790795</td>\n",
       "      <td>0.559000</td>\n",
       "      <td>0.164000</td>\n",
       "      <td>0.258494</td>\n",
       "      <td>2.465602</td>\n",
       "      <td>2020.000000</td>\n",
       "    </tr>\n",
       "    <tr>\n",
       "      <th>max</th>\n",
       "      <td>158.000000</td>\n",
       "      <td>7.842000</td>\n",
       "      <td>2.209000</td>\n",
       "      <td>1.644000</td>\n",
       "      <td>1.141000</td>\n",
       "      <td>0.740000</td>\n",
       "      <td>0.587000</td>\n",
       "      <td>0.838075</td>\n",
       "      <td>3.837720</td>\n",
       "      <td>2022.000000</td>\n",
       "    </tr>\n",
       "  </tbody>\n",
       "</table>\n",
       "</div>"
      ],
      "text/plain": [
       "       happiness_rank  happiness_score      economy  social_support  \\\n",
       "count      929.000000      1230.000000  1230.000000     1230.000000   \n",
       "mean        77.954790         5.430092     0.976255        1.032984   \n",
       "std         44.791183         1.115361     0.435247        0.329526   \n",
       "min          1.000000         2.404000     0.000000        0.000000   \n",
       "25%         39.000000         4.584500     0.668250        0.824771   \n",
       "50%         78.000000         5.410500     1.013580        1.069168   \n",
       "75%        117.000000         6.226225     1.295961        1.273395   \n",
       "max        158.000000         7.842000     2.209000        1.644000   \n",
       "\n",
       "            health      freedom        trust   generosity  dystopia_residual  \\\n",
       "count  1230.000000  1230.000000  1229.000000  1230.000000         918.000000   \n",
       "mean      0.608132     0.440833     0.130756     0.201583           2.085952   \n",
       "std       0.241249     0.154415     0.110818     0.115522           0.583109   \n",
       "min       0.000000     0.000000     0.000000     0.000000           0.187000   \n",
       "25%       0.439250     0.344250     0.056000     0.118000           1.730570   \n",
       "50%       0.639427     0.458135     0.096000     0.186984           2.107560   \n",
       "75%       0.790795     0.559000     0.164000     0.258494           2.465602   \n",
       "max       1.141000     0.740000     0.587000     0.838075           3.837720   \n",
       "\n",
       "              year  \n",
       "count  1231.000000  \n",
       "mean   2018.450041  \n",
       "std       2.284034  \n",
       "min    2015.000000  \n",
       "25%    2016.000000  \n",
       "50%    2018.000000  \n",
       "75%    2020.000000  \n",
       "max    2022.000000  "
      ]
     },
     "execution_count": 14,
     "metadata": {},
     "output_type": "execute_result"
    }
   ],
   "source": [
    "happiness_df.describe()"
   ]
  },
  {
   "cell_type": "code",
   "execution_count": 23,
   "id": "2577b62d",
   "metadata": {},
   "outputs": [
    {
     "data": {
      "text/plain": [
       "<AxesSubplot:>"
      ]
     },
     "execution_count": 23,
     "metadata": {},
     "output_type": "execute_result"
    },
    {
     "data": {
      "image/png": "[encoded data removed]",
      "text/plain": [
       "<Figure size 1440x720 with 1 Axes>"
      ]
     },
     "metadata": {
      "needs_background": "light"
     },
     "output_type": "display_data"
    }
   ],
   "source": [
    "happiness_df.select_dtypes(include=['float32']).plot(kind=\"box\", figsize=(20,10))"
   ]
  },
  {
   "cell_type": "markdown",
   "id": "d449827c",
   "metadata": {},
   "source": [
    "No outliers."
   ]
  },
  {
   "cell_type": "markdown",
   "id": "4bb55685",
   "metadata": {},
   "source": []
  },
  {
   "cell_type": "code",
   "execution_count": null,
   "id": "265182c2",
   "metadata": {},
   "outputs": [],
   "source": []
  },
  {
   "cell_type": "code",
   "execution_count": null,
   "id": "fe8efd08",
   "metadata": {},
   "outputs": [],
   "source": []
  },
  {
   "cell_type": "code",
   "execution_count": null,
   "id": "48fa145a",
   "metadata": {},
   "outputs": [],
   "source": []
  },
  {
   "cell_type": "code",
   "execution_count": 41,
   "id": "3357b7e3",
   "metadata": {},
   "outputs": [],
   "source": [
    "for data in all_data:\n",
    "    data.rename(columns = {'old_col1':'new_col1', 'old_col2':'new_col2'}, inplace = True)"
   ]
  },
  {
   "cell_type": "code",
   "execution_count": null,
   "id": "b6a96df6",
   "metadata": {},
   "outputs": [],
   "source": [
    "dict_col = {'Country or region':'Country', 'Country name':'Country',\\\n",
    "            'Happiness.Score':'Happiness Score', 'Score':'Happiness Score',\\\n",
    "            'Ladder Score':'Happiness Score',\n",
    "           }"
   ]
  },
  {
   "cell_type": "markdown",
   "id": "7bdd0fed",
   "metadata": {},
   "source": [
    "Je ne garde que les pays européens comme c'est ce qu'on a le plus"
   ]
  },
  {
   "cell_type": "code",
   "execution_count": 39,
   "id": "b682f939",
   "metadata": {},
   "outputs": [],
   "source": [
    "country_list = data2015[data2015['Region']=='Western Europe'].Country.unique()"
   ]
  },
  {
   "cell_type": "code",
   "execution_count": 40,
   "id": "8cb16dd7",
   "metadata": {},
   "outputs": [
    {
     "data": {
      "text/plain": [
       "21"
      ]
     },
     "execution_count": 40,
     "metadata": {},
     "output_type": "execute_result"
    }
   ],
   "source": [
    "len(country_list)"
   ]
  },
  {
   "cell_type": "code",
   "execution_count": null,
   "id": "e2643e2a",
   "metadata": {},
   "outputs": [],
   "source": []
  }
 ],
 "metadata": {
  "kernelspec": {
   "display_name": "Python 3.8.10 64-bit",
   "language": "python",
   "name": "python3"
  },
  "language_info": {
   "codemirror_mode": {
    "name": "ipython",
    "version": 3
   },
   "file_extension": ".py",
   "mimetype": "text/x-python",
   "name": "python",
   "nbconvert_exporter": "python",
   "pygments_lexer": "ipython3",
   "version": "3.8.10"
  },
  "vscode": {
   "interpreter": {
    "hash": "916dbcbb3f70747c44a77c7bcd40155683ae19c65e1c03b4aa3499c5328201f1"
   }
  }
 },
 "nbformat": 4,
 "nbformat_minor": 5
}
